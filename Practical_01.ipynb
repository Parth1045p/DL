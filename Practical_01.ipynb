{
 "cells": [
  {
   "cell_type": "code",
   "execution_count": 2,
   "id": "ee9ed006",
   "metadata": {},
   "outputs": [],
   "source": [
    "import tensorflow as tf\n",
    "import numpy as np"
   ]
  },
  {
   "cell_type": "code",
   "execution_count": 3,
   "id": "00024f41",
   "metadata": {},
   "outputs": [
    {
     "name": "stdout",
     "output_type": "stream",
     "text": [
      "tf.Tensor(35, shape=(), dtype=int32)\n",
      "tf.Tensor(-5, shape=(), dtype=int32)\n",
      "tf.Tensor(300, shape=(), dtype=int32)\n"
     ]
    }
   ],
   "source": [
    "a = tf.constant(15)\n",
    "b = tf.constant(20)\n",
    "print(a+b)\n",
    "print(a-b)\n",
    "print(a*b)"
   ]
  },
  {
   "cell_type": "code",
   "execution_count": 2,
   "id": "1346c900",
   "metadata": {},
   "outputs": [
    {
     "name": "stdout",
     "output_type": "stream",
     "text": [
      "[0.73387176 0.97820073 0.21187808 0.0358735  0.07826528 0.91215533\n",
      " 0.33276623 0.66061956 0.26210904 0.4238264  0.80457777 0.16611959\n",
      " 0.09604524 0.7539399  0.4896322  0.5820778  0.916564   0.33874416\n",
      " 0.32435584 0.29127806 0.27041376 0.34385    0.08972409 0.6532004\n",
      " 0.37358424 0.9208215  0.3326017  0.7488958  0.28268692 0.03111845\n",
      " 0.05601687 0.3313162  0.23734419 0.26888192 0.21177411 0.8107789\n",
      " 0.7380227  0.09336556 0.35597512 0.2624742  0.92519015 0.2778356\n",
      " 0.6298493  0.6388223  0.30019492 0.3616691  0.19074301 0.6309947\n",
      " 0.8463066  0.67510957 0.7604725  0.9748005  0.31967908 0.7218257\n",
      " 0.0183755  0.6920954  0.22277404 0.8303785  0.15089674 0.62719893\n",
      " 0.939995   0.96751136 0.41275337 0.35171285 0.21520819 0.80309427\n",
      " 0.67646044 0.594621   0.40903625 0.763276   0.7609124  0.65924746\n",
      " 0.50847274 0.04408352 0.92960644 0.5614242  0.53823453 0.52517056\n",
      " 0.91213626 0.00126517 0.09925459 0.44783852 0.09583116 0.6327463\n",
      " 0.60889816 0.8227311  0.04133055 0.49857563 0.9047547  0.5700745\n",
      " 0.38492203 0.3797178  0.09326752 0.9403534  0.37640968 0.68603396\n",
      " 0.88696814 0.05114257 0.63964474 0.31408182]\n"
     ]
    }
   ],
   "source": [
    "# input\n",
    "x = np.random.rand(100).astype(np.float32)\n",
    "print(x)"
   ]
  },
  {
   "cell_type": "code",
   "execution_count": 5,
   "id": "f4ed6398",
   "metadata": {},
   "outputs": [],
   "source": [
    "# output - observed\n",
    "y = x * 0.2 + 0.2\n",
    "# Weight\n",
    "W = tf.Variable(tf.random.normal([1]))\n",
    "# bias\n",
    "b = tf.Variable(tf.zeros([1]))"
   ]
  },
  {
   "cell_type": "code",
   "execution_count": 6,
   "id": "06ed726e",
   "metadata": {},
   "outputs": [],
   "source": [
    "# Create a function for MSE - mean squared error\n",
    "def mse_loss():\n",
    "  ypred = W * x + b\n",
    "  loss = tf.reduce_mean(tf.square(ypred-y))\n",
    "  return loss"
   ]
  },
  {
   "cell_type": "code",
   "execution_count": 7,
   "id": "5ebf4596",
   "metadata": {},
   "outputs": [],
   "source": [
    "# Optimizer\n",
    "optimizer = tf.keras.optimizers.Adam()"
   ]
  },
  {
   "cell_type": "code",
   "execution_count": 8,
   "id": "cee2c9f6",
   "metadata": {},
   "outputs": [
    {
     "name": "stdout",
     "output_type": "stream",
     "text": [
      "0 [-0.3673859] [0.001]\n",
      "500 [-0.05266239] [0.29018274]\n",
      "1000 [0.02834991] [0.29162404]\n",
      "1500 [0.08650305] [0.26087362]\n",
      "2000 [0.1357939] [0.23443127]\n",
      "2500 [0.17005995] [0.21605453]\n",
      "3000 [0.18905447] [0.2058691]\n",
      "3500 [0.19706775] [0.20157228]\n",
      "4000 [0.19947399] [0.20028207]\n",
      "4500 [0.19994399] [0.20003003]\n"
     ]
    }
   ],
   "source": [
    "# Iterations\n",
    "for step in range(5000):\n",
    "  optimizer.minimize(mse_loss,var_list=[W,b])\n",
    "  if step % 500 == 0:\n",
    "    print(step, W.numpy(), b.numpy())"
   ]
  },
  {
   "cell_type": "markdown",
   "id": "9140d46e",
   "metadata": {},
   "source": [
    "# KERAS"
   ]
  },
  {
   "cell_type": "code",
   "execution_count": 9,
   "id": "b2e677a4",
   "metadata": {},
   "outputs": [],
   "source": [
    "# Step 1 - Load the dataset\n",
    "from numpy import loadtxt\n",
    "from tensorflow.keras.models import Sequential\n",
    "from tensorflow.keras.layers import Dense"
   ]
  },
  {
   "cell_type": "code",
   "execution_count": 23,
   "id": "cc671da0",
   "metadata": {},
   "outputs": [
    {
     "data": {
      "text/plain": [
       "array([[1.00e+00, 8.50e+01, 6.60e+01, ..., 3.51e-01, 3.10e+01, 0.00e+00],\n",
       "       [8.00e+00, 1.83e+02, 6.40e+01, ..., 6.72e-01, 3.20e+01, 1.00e+00],\n",
       "       [1.00e+00, 8.90e+01, 6.60e+01, ..., 1.67e-01, 2.10e+01, 0.00e+00],\n",
       "       ...,\n",
       "       [5.00e+00, 1.21e+02, 7.20e+01, ..., 2.45e-01, 3.00e+01, 0.00e+00],\n",
       "       [1.00e+00, 1.26e+02, 6.00e+01, ..., 3.49e-01, 4.70e+01, 1.00e+00],\n",
       "       [1.00e+00, 9.30e+01, 7.00e+01, ..., 3.15e-01, 2.30e+01, 0.00e+00]])"
      ]
     },
     "execution_count": 23,
     "metadata": {},
     "output_type": "execute_result"
    }
   ],
   "source": [
    "import numpy\n",
    "dataset = numpy.loadtxt('Documents/pima-indians-diabetes.csv',delimiter=',',skiprows=1)\n",
    "dataset"
   ]
  },
  {
   "cell_type": "code",
   "execution_count": 24,
   "id": "1d28f254",
   "metadata": {},
   "outputs": [
    {
     "name": "stdout",
     "output_type": "stream",
     "text": [
      "<class 'numpy.ndarray'>\n",
      "(767, 8)\n",
      "[0. 1. 0. 1. 0. 1. 0. 1. 1. 0. 1. 0. 1. 1. 1. 1. 1. 0. 1. 0. 0. 1. 1. 1.\n",
      " 1. 1. 0. 0. 0. 0. 1. 0. 0. 0. 0. 0. 1. 1. 1. 0. 0. 0. 1. 0. 1. 0. 0. 1.\n",
      " 0. 0. 0. 0. 1. 0. 0. 1. 0. 0. 0. 0. 1. 0. 0. 1. 0. 1. 0. 0. 0. 1. 0. 1.\n",
      " 0. 0. 0. 0. 0. 1. 0. 0. 0. 0. 0. 1. 0. 0. 0. 1. 0. 0. 0. 0. 1. 0. 0. 0.\n",
      " 0. 0. 1. 1. 0. 0. 0. 0. 0. 0. 0. 0. 1. 1. 1. 0. 0. 1. 1. 1. 0. 0. 0. 1.\n",
      " 0. 0. 0. 1. 1. 0. 0. 1. 1. 1. 1. 1. 0. 0. 0. 0. 0. 0. 0. 0. 0. 0. 1. 0.\n",
      " 0. 0. 0. 0. 0. 0. 0. 1. 0. 1. 1. 0. 0. 0. 1. 0. 0. 0. 0. 1. 1. 0. 0. 0.\n",
      " 0. 1. 1. 0. 0. 0. 1. 0. 1. 0. 1. 0. 0. 0. 0. 0. 1. 1. 1. 1. 1. 0. 0. 1.\n",
      " 1. 0. 1. 0. 1. 1. 1. 0. 0. 0. 0. 0. 0. 1. 1. 0. 1. 0. 0. 0. 1. 1. 1. 1.\n",
      " 0. 1. 1. 1. 1. 0. 0. 0. 0. 0. 1. 0. 0. 1. 1. 0. 0. 0. 1. 1. 1. 1. 0. 0.\n",
      " 0. 1. 1. 0. 1. 0. 0. 0. 0. 0. 0. 0. 0. 1. 1. 0. 0. 0. 1. 0. 1. 0. 0. 1.\n",
      " 0. 1. 0. 0. 1. 1. 0. 0. 0. 0. 0. 1. 0. 0. 0. 1. 0. 0. 1. 1. 0. 0. 1. 0.\n",
      " 0. 0. 1. 1. 1. 0. 0. 1. 0. 1. 0. 1. 1. 0. 1. 0. 0. 1. 0. 1. 1. 0. 0. 1.\n",
      " 0. 1. 0. 0. 1. 0. 1. 0. 1. 1. 1. 0. 0. 1. 0. 1. 0. 0. 0. 1. 0. 0. 0. 0.\n",
      " 1. 1. 1. 0. 0. 0. 0. 0. 0. 0. 0. 0. 1. 0. 0. 0. 0. 0. 1. 1. 1. 0. 1. 1.\n",
      " 0. 0. 1. 0. 0. 1. 0. 0. 1. 1. 0. 0. 0. 0. 1. 0. 0. 1. 0. 0. 0. 0. 0. 0.\n",
      " 0. 1. 1. 1. 0. 0. 1. 0. 0. 1. 0. 0. 1. 0. 1. 1. 0. 1. 0. 1. 0. 1. 0. 1.\n",
      " 1. 0. 0. 0. 0. 1. 1. 0. 1. 0. 1. 0. 0. 0. 0. 1. 1. 0. 1. 0. 1. 0. 0. 0.\n",
      " 0. 0. 1. 0. 0. 0. 0. 1. 0. 0. 1. 1. 1. 0. 0. 1. 0. 0. 1. 0. 0. 0. 1. 0.\n",
      " 0. 1. 0. 0. 0. 0. 0. 0. 0. 0. 0. 1. 0. 0. 0. 0. 0. 0. 0. 1. 0. 0. 0. 1.\n",
      " 0. 0. 0. 1. 1. 0. 0. 0. 0. 0. 0. 0. 1. 0. 0. 0. 0. 1. 0. 0. 0. 1. 0. 0.\n",
      " 0. 1. 0. 0. 0. 1. 0. 0. 0. 0. 1. 1. 0. 0. 0. 0. 0. 0. 1. 0. 0. 0. 0. 0.\n",
      " 0. 0. 0. 0. 0. 0. 1. 0. 0. 0. 1. 1. 1. 1. 0. 0. 1. 1. 0. 0. 0. 0. 0. 0.\n",
      " 0. 0. 0. 0. 0. 0. 0. 1. 1. 0. 0. 0. 0. 0. 0. 0. 1. 0. 0. 0. 0. 0. 0. 0.\n",
      " 1. 0. 1. 1. 0. 0. 0. 1. 0. 1. 0. 1. 0. 1. 0. 1. 0. 0. 1. 0. 0. 1. 0. 0.\n",
      " 0. 0. 1. 1. 0. 1. 0. 0. 0. 0. 1. 1. 0. 1. 0. 0. 0. 1. 1. 0. 0. 0. 0. 0.\n",
      " 0. 0. 0. 0. 0. 1. 0. 0. 0. 0. 1. 0. 0. 1. 0. 0. 0. 1. 0. 0. 0. 1. 1. 1.\n",
      " 0. 0. 0. 0. 0. 0. 1. 0. 0. 0. 1. 0. 1. 1. 1. 1. 0. 1. 1. 0. 0. 0. 0. 0.\n",
      " 0. 0. 1. 1. 0. 1. 0. 0. 1. 0. 1. 0. 0. 0. 0. 0. 1. 0. 1. 0. 1. 0. 1. 1.\n",
      " 0. 0. 0. 0. 1. 1. 0. 0. 0. 1. 0. 1. 1. 0. 0. 1. 0. 0. 1. 1. 0. 0. 1. 0.\n",
      " 0. 1. 0. 0. 0. 0. 0. 0. 0. 1. 1. 1. 0. 0. 0. 0. 0. 0. 1. 1. 0. 0. 1. 0.\n",
      " 0. 1. 0. 1. 1. 1. 0. 0. 1. 1. 1. 0. 1. 0. 1. 0. 1. 0. 0. 0. 0. 1. 0.]\n"
     ]
    }
   ],
   "source": [
    "x = dataset[:,0:8]\n",
    "print(type(x))\n",
    "print(x.shape)\n",
    "y = dataset[:,8]\n",
    "print(y)"
   ]
  },
  {
   "cell_type": "code",
   "execution_count": 30,
   "id": "a5cbe362",
   "metadata": {},
   "outputs": [],
   "source": [
    "model = Sequential()\n"
   ]
  },
  {
   "cell_type": "markdown",
   "id": "587ae65e",
   "metadata": {},
   "source": [
    "The model expects row of data with 8 variables 12 = nodes"
   ]
  },
  {
   "cell_type": "code",
   "execution_count": 31,
   "id": "1cecdadc",
   "metadata": {},
   "outputs": [],
   "source": [
    "model.add(Dense(12, input_shape=(8,), activation='relu'))"
   ]
  },
  {
   "cell_type": "markdown",
   "id": "20addf68",
   "metadata": {},
   "source": [
    "Hidden Layer 8 = nodes"
   ]
  },
  {
   "cell_type": "code",
   "execution_count": 32,
   "id": "54f41263",
   "metadata": {},
   "outputs": [],
   "source": [
    "model.add(Dense(8, activation='relu'))"
   ]
  },
  {
   "cell_type": "code",
   "execution_count": 33,
   "id": "0e95d76d",
   "metadata": {},
   "outputs": [],
   "source": [
    "# Output layer\n",
    "model.add(Dense(1,activation='sigmoid'))"
   ]
  },
  {
   "cell_type": "markdown",
   "id": "24a6d845",
   "metadata": {},
   "source": [
    "Step 3 - Compile the Keras model loss (error) optimizer (adam) metrics = accuracy"
   ]
  },
  {
   "cell_type": "code",
   "execution_count": 35,
   "id": "9d2fde98",
   "metadata": {},
   "outputs": [],
   "source": [
    "model.compile(loss='binary_crossentropy', optimizer='adam', metrics=['accuracy'])"
   ]
  },
  {
   "cell_type": "markdown",
   "id": "135bb292",
   "metadata": {},
   "source": [
    "Step 4 - Fit / Train the model 1 = Epochs - number of iterations / passes 2 - Batch - sample data"
   ]
  },
  {
   "cell_type": "code",
   "execution_count": 36,
   "id": "4de344bb",
   "metadata": {},
   "outputs": [
    {
     "name": "stdout",
     "output_type": "stream",
     "text": [
      "Epoch 1/50\n",
      "77/77 [==============================] - 2s 6ms/step - loss: 2.2219 - accuracy: 0.6323\n",
      "Epoch 2/50\n",
      "77/77 [==============================] - 0s 5ms/step - loss: 0.9864 - accuracy: 0.5984\n",
      "Epoch 3/50\n",
      "77/77 [==============================] - 0s 5ms/step - loss: 0.8426 - accuracy: 0.6389\n",
      "Epoch 4/50\n",
      "77/77 [==============================] - 0s 4ms/step - loss: 0.7646 - accuracy: 0.6428\n",
      "Epoch 5/50\n",
      "77/77 [==============================] - 0s 5ms/step - loss: 0.7380 - accuracy: 0.6532\n",
      "Epoch 6/50\n",
      "77/77 [==============================] - 1s 7ms/step - loss: 0.7212 - accuracy: 0.6532\n",
      "Epoch 7/50\n",
      "77/77 [==============================] - 1s 8ms/step - loss: 0.6766 - accuracy: 0.6714\n",
      "Epoch 8/50\n",
      "77/77 [==============================] - 1s 7ms/step - loss: 0.6596 - accuracy: 0.6871\n",
      "Epoch 9/50\n",
      "77/77 [==============================] - 0s 4ms/step - loss: 0.6535 - accuracy: 0.6845\n",
      "Epoch 10/50\n",
      "77/77 [==============================] - 0s 5ms/step - loss: 0.6416 - accuracy: 0.7001\n",
      "Epoch 11/50\n",
      "77/77 [==============================] - 0s 5ms/step - loss: 0.6344 - accuracy: 0.6832\n",
      "Epoch 12/50\n",
      "77/77 [==============================] - 0s 4ms/step - loss: 0.6147 - accuracy: 0.6936\n",
      "Epoch 13/50\n",
      "77/77 [==============================] - 0s 4ms/step - loss: 0.5948 - accuracy: 0.7184\n",
      "Epoch 14/50\n",
      "77/77 [==============================] - 0s 4ms/step - loss: 0.5899 - accuracy: 0.7119\n",
      "Epoch 15/50\n",
      "77/77 [==============================] - 0s 4ms/step - loss: 0.5867 - accuracy: 0.7080\n",
      "Epoch 16/50\n",
      "77/77 [==============================] - 0s 4ms/step - loss: 0.6024 - accuracy: 0.6936\n",
      "Epoch 17/50\n",
      "77/77 [==============================] - 0s 5ms/step - loss: 0.5706 - accuracy: 0.7171\n",
      "Epoch 18/50\n",
      "77/77 [==============================] - 0s 4ms/step - loss: 0.5753 - accuracy: 0.7106\n",
      "Epoch 19/50\n",
      "77/77 [==============================] - 0s 4ms/step - loss: 0.5752 - accuracy: 0.7132\n",
      "Epoch 20/50\n",
      "77/77 [==============================] - 0s 4ms/step - loss: 0.5693 - accuracy: 0.7288\n",
      "Epoch 21/50\n",
      "77/77 [==============================] - 0s 4ms/step - loss: 0.5645 - accuracy: 0.7093\n",
      "Epoch 22/50\n",
      "77/77 [==============================] - 0s 5ms/step - loss: 0.5672 - accuracy: 0.7301\n",
      "Epoch 23/50\n",
      "77/77 [==============================] - 0s 4ms/step - loss: 0.5679 - accuracy: 0.7106\n",
      "Epoch 24/50\n",
      "77/77 [==============================] - 0s 6ms/step - loss: 0.5625 - accuracy: 0.7158\n",
      "Epoch 25/50\n",
      "77/77 [==============================] - 0s 4ms/step - loss: 0.5593 - accuracy: 0.7223\n",
      "Epoch 26/50\n",
      "77/77 [==============================] - 0s 5ms/step - loss: 0.5607 - accuracy: 0.7106\n",
      "Epoch 27/50\n",
      "77/77 [==============================] - 0s 4ms/step - loss: 0.5543 - accuracy: 0.7040\n",
      "Epoch 28/50\n",
      "77/77 [==============================] - 0s 3ms/step - loss: 0.5515 - accuracy: 0.7119\n",
      "Epoch 29/50\n",
      "77/77 [==============================] - 0s 5ms/step - loss: 0.5498 - accuracy: 0.7184\n",
      "Epoch 30/50\n",
      "77/77 [==============================] - 0s 4ms/step - loss: 0.5558 - accuracy: 0.7119\n",
      "Epoch 31/50\n",
      "77/77 [==============================] - 0s 5ms/step - loss: 0.5451 - accuracy: 0.7314\n",
      "Epoch 32/50\n",
      "77/77 [==============================] - 0s 4ms/step - loss: 0.5455 - accuracy: 0.7249\n",
      "Epoch 33/50\n",
      "77/77 [==============================] - 0s 4ms/step - loss: 0.5486 - accuracy: 0.7184\n",
      "Epoch 34/50\n",
      "77/77 [==============================] - 0s 5ms/step - loss: 0.5490 - accuracy: 0.7184\n",
      "Epoch 35/50\n",
      "77/77 [==============================] - 0s 4ms/step - loss: 0.5513 - accuracy: 0.7236\n",
      "Epoch 36/50\n",
      "77/77 [==============================] - 0s 4ms/step - loss: 0.5566 - accuracy: 0.7301\n",
      "Epoch 37/50\n",
      "77/77 [==============================] - 0s 5ms/step - loss: 0.5369 - accuracy: 0.7327\n",
      "Epoch 38/50\n",
      "77/77 [==============================] - 0s 4ms/step - loss: 0.5509 - accuracy: 0.7262\n",
      "Epoch 39/50\n",
      "77/77 [==============================] - 0s 4ms/step - loss: 0.5397 - accuracy: 0.7340\n",
      "Epoch 40/50\n",
      "77/77 [==============================] - 0s 3ms/step - loss: 0.5390 - accuracy: 0.7262\n",
      "Epoch 41/50\n",
      "77/77 [==============================] - 0s 4ms/step - loss: 0.5409 - accuracy: 0.7210\n",
      "Epoch 42/50\n",
      "77/77 [==============================] - 0s 5ms/step - loss: 0.5370 - accuracy: 0.7288\n",
      "Epoch 43/50\n",
      "77/77 [==============================] - 0s 4ms/step - loss: 0.5447 - accuracy: 0.7249\n",
      "Epoch 44/50\n",
      "77/77 [==============================] - 0s 4ms/step - loss: 0.5340 - accuracy: 0.7314\n",
      "Epoch 45/50\n",
      "77/77 [==============================] - 0s 5ms/step - loss: 0.5282 - accuracy: 0.7301\n",
      "Epoch 46/50\n",
      "77/77 [==============================] - 0s 6ms/step - loss: 0.5375 - accuracy: 0.7353\n",
      "Epoch 47/50\n",
      "77/77 [==============================] - 0s 5ms/step - loss: 0.5292 - accuracy: 0.7405\n",
      "Epoch 48/50\n",
      "77/77 [==============================] - 0s 4ms/step - loss: 0.5310 - accuracy: 0.7353\n",
      "Epoch 49/50\n",
      "77/77 [==============================] - 0s 4ms/step - loss: 0.5357 - accuracy: 0.7236\n",
      "Epoch 50/50\n",
      "77/77 [==============================] - 0s 5ms/step - loss: 0.5278 - accuracy: 0.7262\n"
     ]
    },
    {
     "data": {
      "text/plain": [
       "<keras.callbacks.History at 0x21c8b1584c0>"
      ]
     },
     "execution_count": 36,
     "metadata": {},
     "output_type": "execute_result"
    }
   ],
   "source": [
    "model.fit(x,y, epochs=50, batch_size=10)"
   ]
  },
  {
   "cell_type": "code",
   "execution_count": 37,
   "id": "50e1b75f",
   "metadata": {},
   "outputs": [
    {
     "name": "stdout",
     "output_type": "stream",
     "text": [
      "24/24 [==============================] - 1s 4ms/step - loss: 0.5192 - accuracy: 0.7588\n"
     ]
    },
    {
     "data": {
      "text/plain": [
       "[0.5191866159439087, 0.7588005065917969]"
      ]
     },
     "execution_count": 37,
     "metadata": {},
     "output_type": "execute_result"
    }
   ],
   "source": [
    "model.evaluate(x,y)"
   ]
  },
  {
   "cell_type": "markdown",
   "id": "db7b607c",
   "metadata": {},
   "source": [
    "# Theano"
   ]
  },
  {
   "cell_type": "code",
   "execution_count": 4,
   "id": "f89daa5b",
   "metadata": {},
   "outputs": [
    {
     "name": "stderr",
     "output_type": "stream",
     "text": [
      "WARNING (theano.tensor.blas): Using NumPy C-API based implementation for BLAS functions.\n"
     ]
    }
   ],
   "source": [
    "import theano\n",
    "from theano import *\n",
    "import theano.tensor as T\n",
    "import numpy as np\n",
    "import pandas as pd\n",
    "from theano import function"
   ]
  },
  {
   "cell_type": "code",
   "execution_count": 7,
   "id": "3fb5a8c9",
   "metadata": {},
   "outputs": [
    {
     "data": {
      "text/plain": [
       "array(2.)"
      ]
     },
     "execution_count": 7,
     "metadata": {},
     "output_type": "execute_result"
    }
   ],
   "source": [
    "# scalar variables\n",
    "v1 = T.dscalar('v1')\n",
    "v2 = T.scalar('v2')\n",
    "# subtraction\n",
    "sres = v1-v2\n",
    "\n",
    "f=function([v1,v2],sres)\n",
    "f(7,5)"
   ]
  },
  {
   "cell_type": "code",
   "execution_count": 8,
   "id": "67fc942c",
   "metadata": {},
   "outputs": [
    {
     "data": {
      "text/plain": [
       "Elemwise{sub,no_inplace}.0"
      ]
     },
     "execution_count": 8,
     "metadata": {},
     "output_type": "execute_result"
    }
   ],
   "source": [
    "sres"
   ]
  },
  {
   "cell_type": "code",
   "execution_count": 68,
   "id": "2468ca1a",
   "metadata": {},
   "outputs": [],
   "source": [
    "#add\n",
    "ares = v1+v2\n",
    "#convert the results into functions\n",
    "calcsres = theano.function([v1,v2],sres)\n",
    "calcares = theano.function([v1,v2],ares)\n",
    "calcares(12,23)\n",
    "calcsres(13,12)\n",
    "x = T.dmatrix('x')\n",
    "y = T.dmatrix('y')"
   ]
  },
  {
   "cell_type": "code",
   "execution_count": 69,
   "id": "d51f231e",
   "metadata": {},
   "outputs": [
    {
     "data": {
      "text/plain": [
       "array([[ 5.,  7.],\n",
       "       [ 9., 11.]])"
      ]
     },
     "execution_count": 69,
     "metadata": {},
     "output_type": "execute_result"
    }
   ],
   "source": [
    "z = x+y\n",
    "func = function([x,y],z)\n",
    "m1 = [\n",
    "[1,2],\n",
    "[3,4]\n",
    "]\n",
    "m2 = [\n",
    "[4,5],\n",
    "[6,7]\n",
    "]\n",
    "func(m1,m2)"
   ]
  },
  {
   "cell_type": "code",
   "execution_count": 9,
   "id": "41984728",
   "metadata": {},
   "outputs": [
    {
     "name": "stdout",
     "output_type": "stream",
     "text": [
      "[[0.5        0.73105858]\n",
      " [0.26894142 0.11920292]]\n"
     ]
    }
   ],
   "source": [
    "# Declaring variable\n",
    "a = tensor.dmatrix('a')\n",
    " \n",
    "# Sigmoid function\n",
    "sig = 1 / (1 + tensor.exp(-a))\n",
    " \n",
    "# Now it takes matrix as parameters\n",
    "log = theano.function([a], sig)\n",
    " \n",
    "# Calling function\n",
    "print(log([[0, 1], [-1, -2]]))"
   ]
  },
  {
   "cell_type": "markdown",
   "id": "ab638cd1",
   "metadata": {},
   "source": [
    "# Pytorch"
   ]
  },
  {
   "cell_type": "code",
   "execution_count": 71,
   "id": "d26ea8f2",
   "metadata": {},
   "outputs": [],
   "source": [
    "import torch\n",
    "import numpy as np"
   ]
  },
  {
   "cell_type": "markdown",
   "id": "c347ac88",
   "metadata": {},
   "source": [
    "# Using Data"
   ]
  },
  {
   "cell_type": "code",
   "execution_count": 72,
   "id": "3b7188f0",
   "metadata": {},
   "outputs": [],
   "source": [
    "data = [\n",
    "[1,2],\n",
    "[3,4]\n",
    "]\n",
    "x_data = torch.tensor(data)"
   ]
  },
  {
   "cell_type": "code",
   "execution_count": 73,
   "id": "5495db90",
   "metadata": {},
   "outputs": [
    {
     "name": "stdout",
     "output_type": "stream",
     "text": [
      "<class 'torch.Tensor'>\n"
     ]
    }
   ],
   "source": [
    "print(type(x_data))"
   ]
  },
  {
   "cell_type": "markdown",
   "id": "4faed6db",
   "metadata": {},
   "source": [
    "# Using numpy array"
   ]
  },
  {
   "cell_type": "code",
   "execution_count": 74,
   "id": "4ab02b13",
   "metadata": {},
   "outputs": [
    {
     "name": "stdout",
     "output_type": "stream",
     "text": [
      "tensor([[1, 2],\n",
      "        [3, 4]], dtype=torch.int32)\n",
      "<class 'torch.Tensor'>\n"
     ]
    }
   ],
   "source": [
    "np_array = np.array(data)\n",
    "x_np = torch.from_numpy(np_array)\n",
    "print(x_np)\n",
    "print(type(x_np))"
   ]
  },
  {
   "cell_type": "markdown",
   "id": "a142c356",
   "metadata": {},
   "source": [
    "# Using another sensor"
   ]
  },
  {
   "cell_type": "code",
   "execution_count": 75,
   "id": "23235656",
   "metadata": {},
   "outputs": [
    {
     "name": "stdout",
     "output_type": "stream",
     "text": [
      "One Tensor: \n",
      " tensor([[1, 1],\n",
      "        [1, 1]])\n",
      "tensor([[0.4499, 0.7531],\n",
      "        [0.8280, 0.6249]])\n"
     ]
    }
   ],
   "source": [
    "x_ones = torch.ones_like(x_data)\n",
    "print(\"One Tensor: \\n\",x_ones)\n",
    "x_rand = torch.rand_like(x_data,dtype=torch.float)\n",
    "print(x_rand)"
   ]
  },
  {
   "cell_type": "markdown",
   "id": "4456644c",
   "metadata": {},
   "source": [
    "more ways to create sensor"
   ]
  },
  {
   "cell_type": "code",
   "execution_count": 76,
   "id": "400bd1f6",
   "metadata": {},
   "outputs": [
    {
     "name": "stdout",
     "output_type": "stream",
     "text": [
      "tensor([[0.2515, 0.6502, 0.8014],\n",
      "        [0.0092, 0.9831, 0.5400]])\n",
      "<class 'torch.Tensor'>\n",
      "tensor([[1., 1., 1.],\n",
      "        [1., 1., 1.]])\n",
      "<class 'torch.Tensor'>\n",
      "tensor([[0., 0., 0.],\n",
      "        [0., 0., 0.]])\n",
      "<class 'torch.Tensor'>\n",
      "tensor([[0.2457, 0.5619, 0.0221, 0.8140],\n",
      "        [0.3632, 0.9244, 0.5942, 0.2731],\n",
      "        [0.9855, 0.0196, 0.6192, 0.7281]])\n"
     ]
    },
    {
     "data": {
      "text/plain": [
       "device(type='cpu')"
      ]
     },
     "execution_count": 76,
     "metadata": {},
     "output_type": "execute_result"
    }
   ],
   "source": [
    "shape = (2,3)\n",
    "random_tensor = torch.rand(shape)\n",
    "print(random_tensor)\n",
    "print(type(random_tensor))\n",
    "ones_tensor = torch.ones(shape)\n",
    "print(ones_tensor)\n",
    "print(type(ones_tensor))\n",
    "zeros_tensor = torch.zeros(shape)\n",
    "print(zeros_tensor)\n",
    "print(type(zeros_tensor))\n",
    "tensor = torch.rand(3,4)\n",
    "print(tensor)\n",
    "tensor.shape\n",
    "tensor.dtype\n",
    "tensor.device"
   ]
  },
  {
   "cell_type": "markdown",
   "id": "1cada121",
   "metadata": {},
   "source": [
    "# Tensor Operation"
   ]
  },
  {
   "cell_type": "code",
   "execution_count": 77,
   "id": "8505201d",
   "metadata": {},
   "outputs": [],
   "source": [
    "if torch.cuda.is_available():\n",
    "  tensor = tensor.to('cuda')\n",
    "  print(\"Device tensor is stored in \", tensor.device)"
   ]
  },
  {
   "cell_type": "markdown",
   "id": "e376f8fe",
   "metadata": {},
   "source": [
    "# Indexing ,Slicing"
   ]
  },
  {
   "cell_type": "code",
   "execution_count": 78,
   "id": "8011f564",
   "metadata": {},
   "outputs": [
    {
     "name": "stdout",
     "output_type": "stream",
     "text": [
      "tensor([[1., 1., 1., 1.],\n",
      "        [1., 1., 1., 1.],\n",
      "        [1., 1., 1., 1.],\n",
      "        [1., 1., 1., 1.]])\n",
      "tensor([[1., 1., 1., 1.],\n",
      "        [1., 1., 1., 1.],\n",
      "        [1., 1., 1., 1.],\n",
      "        [1., 1., 1., 1.]])\n",
      "tensor([[0., 0., 0., 0.],\n",
      "        [0., 0., 0., 0.],\n",
      "        [0., 0., 0., 0.],\n",
      "        [0., 0., 0., 0.]])\n",
      "tensor([[1., 1., 1., 1.],\n",
      "        [1., 1., 1., 1.],\n",
      "        [1., 1., 1., 1.],\n",
      "        [1., 1., 1., 1.],\n",
      "        [0., 0., 0., 0.],\n",
      "        [0., 0., 0., 0.],\n",
      "        [0., 0., 0., 0.],\n",
      "        [0., 0., 0., 0.]])\n",
      "tensor([[4., 4., 4., 4.],\n",
      "        [4., 4., 4., 4.],\n",
      "        [4., 4., 4., 4.],\n",
      "        [4., 4., 4., 4.]])\n",
      "tensor([1., 1., 1., 1., 1.])\n",
      "[1. 1. 1. 1. 1.]\n",
      "<class 'numpy.ndarray'>\n"
     ]
    }
   ],
   "source": [
    "tensor = torch.ones(4,4)\n",
    "print(tensor)\n",
    "print(tensor)\n",
    "tensor1 = torch.zeros(4,4)\n",
    "print(tensor1)\n",
    "tensor2 = torch.cat([tensor,tensor1])\n",
    "print(tensor2)\n",
    "# Multiply Operation\n",
    "tensor.mul(tensor1)\n",
    "tensor * tensor1\n",
    "tensor.T\n",
    "# inplace - change the original tensor\n",
    "tensor.add_(3)\n",
    "print(tensor)\n",
    "# from tensor to numpy\n",
    "t = torch.ones(5)\n",
    "print(t)\n",
    "n = t.numpy()\n",
    "print(n)\n",
    "print(type(n))"
   ]
  },
  {
   "cell_type": "code",
   "execution_count": null,
   "id": "bf852df3",
   "metadata": {},
   "outputs": [],
   "source": []
  },
  {
   "cell_type": "code",
   "execution_count": null,
   "id": "6c255810",
   "metadata": {},
   "outputs": [],
   "source": []
  }
 ],
 "metadata": {
  "kernelspec": {
   "display_name": "Python 3 (ipykernel)",
   "language": "python",
   "name": "python3"
  },
  "language_info": {
   "codemirror_mode": {
    "name": "ipython",
    "version": 3
   },
   "file_extension": ".py",
   "mimetype": "text/x-python",
   "name": "python",
   "nbconvert_exporter": "python",
   "pygments_lexer": "ipython3",
   "version": "3.9.13"
  }
 },
 "nbformat": 4,
 "nbformat_minor": 5
}
